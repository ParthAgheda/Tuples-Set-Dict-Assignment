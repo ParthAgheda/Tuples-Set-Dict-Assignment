{
 "cells": [
  {
   "cell_type": "markdown",
   "id": "968bf5d2-14a5-47e1-b52e-419743eddf49",
   "metadata": {},
   "source": [
    "### Tuple, Set & Dict Assignment"
   ]
  },
  {
   "cell_type": "markdown",
   "id": "cac0fb62-b86d-4651-a3db-cc0920a74b6a",
   "metadata": {},
   "source": [
    "By Parth Agheda"
   ]
  },
  {
   "cell_type": "markdown",
   "id": "2a78f9e9-f7cf-499f-8306-8dd29fb4dc7e",
   "metadata": {},
   "source": [
    "##### Q1. What are the characteristics of the tuples? Is tuple immutable?"
   ]
  },
  {
   "cell_type": "markdown",
   "id": "949f32f9-7dd9-4e27-8fec-240b5002411b",
   "metadata": {},
   "source": [
    "Ans 1: \n",
    "\n",
    "> Tuples in Python have the following characteristics:\n",
    "\n",
    "1. Immutable: Tuples are immutable, meaning their elements cannot be modified once the tuple is created. However, it's important to note that if a tuple contains mutable objects (e.g., lists), the elements within those objects can be modified.\n",
    "\n",
    "2. Ordered: Tuples are ordered collections of elements, meaning the order of elements is preserved, and you can access them using indexing or slicing.\n",
    "\n",
    "3. Heterogeneous: Tuples can contain elements of different data types. For example, a tuple can include integers, strings, floats, or even other tuples.\n",
    "\n",
    "4. Indexed: Elements in a tuple can be accessed using zero-based indexing. You can retrieve specific elements or perform slicing operations to extract a subset of elements.\n",
    "\n",
    "5. Iterable: Tuples can be iterated over using loops or comprehensions, allowing you to access each element in the tuple sequentially.\n",
    "\n",
    "6. Hashable: Tuples are hashable, which means they can be used as keys in dictionaries and as elements in other tuples or sets.\n",
    "\n",
    "- Overall, tuples provide a lightweight data structure for storing an ordered collection of elements that cannot be modified once created. Their immutability makes tuples useful in situations where you want to ensure data integrity or when you need a hashable object."
   ]
  },
  {
   "cell_type": "markdown",
   "id": "77f11659-13ed-411f-a46a-fb716e2735bc",
   "metadata": {},
   "source": []
  },
  {
   "cell_type": "markdown",
   "id": "d46e3277-db1f-4685-98fe-a6cd967fbad8",
   "metadata": {},
   "source": [
    "##### Q2. What are the two tuple methods in python? Give an example of each method. Give a reason why\n",
    "tuples have only two in-built methods as compared to Lists."
   ]
  },
  {
   "cell_type": "markdown",
   "id": "c3f05ca0-62e2-4aa9-9e90-ffdd362cd997",
   "metadata": {},
   "source": [
    "Ans:2\n",
    "\n",
    "In Python, tuples are immutable sequences, meaning their elements cannot be modified once created. Tuples have two built-in methods:\n",
    "\n",
    "1. count(): The count() method returns the number of occurrences of a specified element in a tuple.\n",
    "\n"
   ]
  },
  {
   "cell_type": "code",
   "execution_count": 2,
   "id": "38635267-f4cd-4b59-8e32-49fb3e12ff7a",
   "metadata": {},
   "outputs": [
    {
     "name": "stdout",
     "output_type": "stream",
     "text": [
      "3\n"
     ]
    }
   ],
   "source": [
    "#Example:\n",
    "my_tuple = (1, 2, 3, 2, 4, 2)\n",
    "count = my_tuple.count(2)\n",
    "print(count) "
   ]
  },
  {
   "cell_type": "markdown",
   "id": "d2504f58-74d5-40bc-9261-a41a050dcd3a",
   "metadata": {},
   "source": [
    "\n",
    "2. index(): The index() method returns the index of the first occurrence of a specified element in a tuple.\n",
    "\n",
    "Example:"
   ]
  },
  {
   "cell_type": "code",
   "execution_count": 4,
   "id": "40b65b51-048a-4b51-86e0-523e6362e5d7",
   "metadata": {},
   "outputs": [
    {
     "name": "stdout",
     "output_type": "stream",
     "text": [
      "1\n"
     ]
    }
   ],
   "source": [
    "my_tuple = ('a', 'b', 'c', 'd', 'b')\n",
    "index = my_tuple.index('b')\n",
    "print(index) \n"
   ]
  },
  {
   "cell_type": "markdown",
   "id": "05622d87-f8b2-423d-b4dd-ab0a1538b201",
   "metadata": {},
   "source": [
    "* Tuples have only these two built-in methods compared to lists because of their immutability. Since tuples are immutable, there is no need for methods like append() or remove() which modify the tuple. The limited number of methods makes tuples more lightweight and efficient in terms of memory and performance. Additionally, tuples are often used in scenarios where immutability is desired, such as representing constant values or as keys in dictionaries."
   ]
  },
  {
   "cell_type": "code",
   "execution_count": null,
   "id": "d50671db-b8e2-4c4a-a32b-89e572de3cb2",
   "metadata": {},
   "outputs": [],
   "source": []
  },
  {
   "cell_type": "markdown",
   "id": "c5ccb06d-5551-4fe6-9371-caab0c968ff2",
   "metadata": {},
   "source": [
    "##### Q3. Which collection datatypes in python do not allow duplicate items? Write a code using a set to remove duplicates from the given list. \\\n",
    "List = [1, 1, 1, 2, 1, 3, 1, 4, 2, 1, 2, 2, 2, 3, 2, 4, 3, 1, 3, 2, 3, 3, 3, 4, 4, 1, 4, 2, 4, 3, 4, 4]"
   ]
  },
  {
   "cell_type": "markdown",
   "id": "591f0631-751f-4ec9-9f1c-9111a09d27ba",
   "metadata": {},
   "source": [
    "Ans:3\n",
    "\n",
    "- In Python, the collection datatype that does not allow duplicate items is a set. Sets are unordered collections of unique elements. When you add duplicate items to a set, they are automatically removed, leaving only distinct elements.\n",
    "\n",
    "Here's an example code using a set to remove duplicates from the given list:"
   ]
  },
  {
   "cell_type": "code",
   "execution_count": 5,
   "id": "cb5bda88-82aa-4c5f-9dc5-a4f4ce7b6fb4",
   "metadata": {},
   "outputs": [
    {
     "name": "stdout",
     "output_type": "stream",
     "text": [
      "[1, 2, 3, 4]\n"
     ]
    }
   ],
   "source": [
    "my_list = [1, 1, 1, 2, 1, 3, 1, 4, 2, 1, 2, 2, 2, 3, 2, 4, 3, 1, 3, 2, 3, 3, 3, 4, 4, 1, 4, 2, 4, 3, 4, 4]\n",
    "unique_elements = set(my_list)\n",
    "result_list = list(unique_elements)\n",
    "print(result_list)\n"
   ]
  },
  {
   "cell_type": "markdown",
   "id": "e6508340-59df-45bd-98af-34158c3bccbf",
   "metadata": {},
   "source": [
    "- In the above code, the set() function is used to convert the list my_list into a set, which automatically removes duplicate elements. Then, the list() function is used to convert the resulting set back to a list, which contains only the unique elements from the original list. Finally, the result_list is printed, which gives us the list without duplicates."
   ]
  },
  {
   "cell_type": "code",
   "execution_count": null,
   "id": "cc58ed34-f196-4ea6-a5fa-3f1d0aa9416d",
   "metadata": {},
   "outputs": [],
   "source": []
  },
  {
   "cell_type": "markdown",
   "id": "20d28f06-0628-4387-add7-30af75c3f3fd",
   "metadata": {},
   "source": [
    "##### Q4. Explain the difference between the union() and update() methods for a set. Give an example of each method."
   ]
  },
  {
   "cell_type": "markdown",
   "id": "2ef5e53b-7724-48db-9cb6-d12e0db9c801",
   "metadata": {},
   "source": [
    "Ans: 4\n",
    "\n",
    "In Python, both the union() and update() methods are used to combine sets. However, they differ in how they modify the sets involved and how they handle duplicate elements.\n",
    "\n",
    "1. union() Method:\n",
    "\n",
    "- The union() method returns a new set that contains all the unique elements from both sets.\n",
    "- It does not modify the original sets but instead creates a new set with the combined elements.\n",
    "- Duplicate elements are automatically removed in the resulting set.\n",
    "- The union() method can also take multiple sets as arguments.\n",
    "\n",
    "Example:"
   ]
  },
  {
   "cell_type": "code",
   "execution_count": 9,
   "id": "d80dea8e-fe94-4111-9711-66e3401b74dc",
   "metadata": {},
   "outputs": [
    {
     "name": "stdout",
     "output_type": "stream",
     "text": [
      "{1, 2, 3, 4, 5}\n",
      "{1, 2, 3, 4, 5, 6, 7}\n"
     ]
    }
   ],
   "source": [
    "set1 = {1, 2, 3}\n",
    "set2 = {3, 4, 5}\n",
    "set3 = {5, 6, 7}\n",
    "\n",
    "union_set = set1.union(set2)\n",
    "print(union_set)  # Output: {1, 2, 3, 4, 5}\n",
    "\n",
    "multi_union_set = set1.union(set2, set3)\n",
    "print(multi_union_set)  # Output: {1, 2, 3, 4, 5, 6, 7}\n"
   ]
  },
  {
   "cell_type": "markdown",
   "id": "349a4d25-46ad-4aae-a3d3-57ea64ec01de",
   "metadata": {},
   "source": [
    "2. update() Method:\n",
    "\n",
    "- The update() method modifies the original set by adding elements from another set or an iterable.\n",
    "- It performs an in-place update, meaning it directly modifies the set on which the method is called.\n",
    "- Duplicate elements are automatically removed during the update process.\n",
    "\n",
    "Example:"
   ]
  },
  {
   "cell_type": "code",
   "execution_count": 10,
   "id": "e6dd2d6b-03bd-4304-963d-a45c8037a4f4",
   "metadata": {},
   "outputs": [
    {
     "name": "stdout",
     "output_type": "stream",
     "text": [
      "{1, 2, 3, 4, 5}\n"
     ]
    }
   ],
   "source": [
    "set1 = {1, 2, 3}\n",
    "set2 = {3, 4, 5}\n",
    "\n",
    "set1.update(set2)\n",
    "print(set1)  # Output: {1, 2, 3, 4, 5}\n"
   ]
  },
  {
   "cell_type": "markdown",
   "id": "6995a7c5-a804-4a0d-8e41-13c0867210cb",
   "metadata": {},
   "source": [
    "In summary, the union() method creates a new set with the combined elements of two or more sets without modifying the original sets, while the update() method modifies the original set in-place by adding elements from another set or iterable."
   ]
  },
  {
   "cell_type": "code",
   "execution_count": null,
   "id": "913279a7-172c-4e01-a999-9a6380d3dca1",
   "metadata": {},
   "outputs": [],
   "source": []
  },
  {
   "cell_type": "markdown",
   "id": "1947345a-a396-446a-8951-1e18528cd3bc",
   "metadata": {},
   "source": [
    "##### Q5. What is a dictionary? Give an example. Also, state whether a dictionary is ordered or unordered.\n"
   ]
  },
  {
   "cell_type": "markdown",
   "id": "19ca3874-3e9b-4c99-8809-550101d743f5",
   "metadata": {},
   "source": [
    "Ans:05\n",
    "\n",
    "In Python, a dictionary is a built-in data type that represents a collection of key-value pairs. It is also known as an associative array or a hash map. Dictionaries are enclosed in curly braces {}, and each key-value pair is separated by a colon :. The keys within a dictionary must be unique, and they are used to access the corresponding values.\n",
    "\n",
    "Here's an example of a dictionary:"
   ]
  },
  {
   "cell_type": "code",
   "execution_count": 11,
   "id": "b055f686-f22a-4df6-acf4-e825b97bd9d0",
   "metadata": {},
   "outputs": [],
   "source": [
    "student = {\n",
    "    \"name\": \"John\",\n",
    "    \"age\": 20,\n",
    "    \"major\": \"Computer Science\",\n",
    "    \"GPA\": 3.8\n",
    "}\n"
   ]
  },
  {
   "cell_type": "markdown",
   "id": "27cbcbdf-d505-4e80-9d24-7fd973ceee9a",
   "metadata": {},
   "source": [
    "- In the above example, we have a dictionary named student. It contains key-value pairs where the keys are \"name\", \"age\", \"major\", and \"GPA\", and the corresponding values are \"John\", 20, \"Computer Science\", and 3.8 respectively.\n",
    "\n",
    "- Regarding the order of elements in a dictionary, prior to Python 3.7, dictionaries were unordered. However, starting from Python 3.7, the insertion order of key-value pairs is preserved in dictionaries. This means that when you iterate over a dictionary or retrieve its keys or values, you can expect the elements to be in the same order as they were inserted. It's important to note that dictionary keys themselves do not have an inherent order. \n",
    "- If you modify a dictionary (add, remove, or modify key-value pairs), the order may change. If you require a specific order for your dictionary, you can use the collections.OrderedDict class."
   ]
  },
  {
   "cell_type": "code",
   "execution_count": null,
   "id": "653f311b-6b85-4582-b1a4-7a6d1ba1f938",
   "metadata": {},
   "outputs": [],
   "source": []
  },
  {
   "cell_type": "markdown",
   "id": "4eb3c376-053f-4b5d-af07-bedac64b5bc9",
   "metadata": {},
   "source": [
    "##### Q6. Can we create a nested dictionary? If so, please give an example by creating a simple one-level nested dictionary."
   ]
  },
  {
   "cell_type": "markdown",
   "id": "8a6e54ea-6297-4bd6-9fad-101c5a4fe9a6",
   "metadata": {},
   "source": [
    "Ans:06\n",
    "\n",
    "Yes, it is possible to create a nested dictionary in Python. A nested dictionary is a dictionary that contains another dictionary as its value or values. This allows for creating a hierarchical structure to store and access data.\n",
    "\n",
    "Here's an example of a simple one-level nested dictionary:"
   ]
  },
  {
   "cell_type": "code",
   "execution_count": 13,
   "id": "88f4fa4f-3232-4e14-b9f7-97fb296cc573",
   "metadata": {},
   "outputs": [],
   "source": [
    "student = {\n",
    "    \"name\": \"John\",\n",
    "    \"age\": 20,\n",
    "    \"grades\": {\n",
    "        \"math\": 90,\n",
    "        \"science\": 85,\n",
    "        \"history\": 95\n",
    "    },\n",
    "    \"address\": {\n",
    "        \"street\": \"123 Main St\",\n",
    "        \"city\": \"Exampleville\",\n",
    "        \"country\": \"USA\"\n",
    "    }\n",
    "}\n"
   ]
  },
  {
   "cell_type": "markdown",
   "id": "21bde468-8189-48fe-b4b8-4ef9736ef39a",
   "metadata": {},
   "source": [
    "In the above example, the student dictionary contains nested dictionaries. The grades dictionary holds the subject names as keys (math, science, history) and their respective grades as values. The address dictionary stores the address details with keys for street, city, and country.\n",
    "\n",
    "You can access the nested values by using multiple keys to traverse the nested structure. For example:"
   ]
  },
  {
   "cell_type": "code",
   "execution_count": 14,
   "id": "9c6b3ffa-97c6-4e94-b128-a5632dec4e7d",
   "metadata": {},
   "outputs": [
    {
     "name": "stdout",
     "output_type": "stream",
     "text": [
      "90\n",
      "Exampleville\n"
     ]
    }
   ],
   "source": [
    "print(student[\"grades\"][\"math\"])  \n",
    "print(student[\"address\"][\"city\"])  \n"
   ]
  },
  {
   "cell_type": "markdown",
   "id": "76ca2f1f-d5ac-4f5e-bcf9-f43761fc82d2",
   "metadata": {},
   "source": [
    "In this way, nesting dictionaries allows for organizing and accessing structured data within a single data structure."
   ]
  },
  {
   "cell_type": "code",
   "execution_count": null,
   "id": "e6aa3763-6a08-4a68-8b31-899fbba8e795",
   "metadata": {},
   "outputs": [],
   "source": []
  },
  {
   "cell_type": "markdown",
   "id": "75527f2d-ade5-4cfe-846a-50e027b0bbf9",
   "metadata": {},
   "source": [
    "##### Q7. Using setdefault() method, create key named topics in the given dictionary and also add the value of the key as this \n",
    "list ['Python', 'Machine Learning’, 'Deep Learning']\n",
    "dict1 = {'language' : 'Python', 'course': 'Data Science Masters'}"
   ]
  },
  {
   "cell_type": "markdown",
   "id": "8ffd40b4-ba0d-4267-8f67-82ef769b211e",
   "metadata": {},
   "source": [
    "ans:07\n",
    "\n",
    "To create a key named \"topics\" in the given dictionary dict1 using the setdefault() method and add the value as the list ['Python', 'Machine Learning', 'Deep Learning'], you can use the following code:"
   ]
  },
  {
   "cell_type": "code",
   "execution_count": 16,
   "id": "87d1be53-d8e9-41b3-8c2d-a8cdb92f2505",
   "metadata": {},
   "outputs": [
    {
     "name": "stdout",
     "output_type": "stream",
     "text": [
      "{'language': 'Python', 'course': 'Data Science Masters', 'topics': ['Python', 'Machine Learning', 'Deep Learning']}\n"
     ]
    }
   ],
   "source": [
    "dict1 = {'language': 'Python', 'course': 'Data Science Masters'}\n",
    "dict1.setdefault('topics', ['Python', 'Machine Learning', 'Deep Learning'])\n",
    "\n",
    "print(dict1)\n"
   ]
  },
  {
   "cell_type": "markdown",
   "id": "17d61a57-d427-430e-a98a-1e07e593facc",
   "metadata": {},
   "source": [
    "In the code above, the setdefault() method is called on the dict1 dictionary with the key \"topics\" and a default value of ['Python', 'Machine Learning', 'Deep Learning']. Since \"topics\" is not already present in the dictionary, setdefault() will add it with the specified list as its value. If the key already exists, the method will simply return the current value associated with the key without modifying the dictionary."
   ]
  },
  {
   "cell_type": "markdown",
   "id": "7a028ab9-8a46-4f7f-9d5e-a755ec8fc83c",
   "metadata": {},
   "source": []
  },
  {
   "cell_type": "markdown",
   "id": "8e9968ac-d152-4478-97e7-db9bdb3e5e9b",
   "metadata": {},
   "source": [
    "##### Q8. What are the three view objects in dictionaries? Use the three in-built methods in python to displaythese three view objects for the given dictionary.\n",
    "dict1 = {'Sport': 'Cricket' , 'Teams': ['India', 'Australia', 'England', 'South Africa', 'Sri Lanka', 'New Zealand']}"
   ]
  },
  {
   "cell_type": "markdown",
   "id": "de8aeb0e-be9c-4749-b533-f4f9cce02419",
   "metadata": {},
   "source": [
    "In Python, dictionaries provide three view objects that allow you to access different aspects of the dictionary:\n",
    "\n",
    "1. keys() view object: It returns a view object containing all the keys of the dictionary.\n",
    "\n",
    "2. values() view object: It returns a view object containing all the values of the dictionary.\n",
    "\n",
    "3. items() view object: It returns a view object containing all the key-value pairs (items) of the dictionary as tuples.\n",
    "\n",
    "Here's the code to display these three view objects for the given dictionary dict1:"
   ]
  },
  {
   "cell_type": "code",
   "execution_count": 27,
   "id": "0a0e2f22-5b3f-4659-a2e9-8a037dcf2658",
   "metadata": {},
   "outputs": [
    {
     "name": "stdout",
     "output_type": "stream",
     "text": [
      "dict_keys(['Sport', 'Teams'])\n",
      "dict_values(['Cricket', ['India', 'Australia', 'England', 'South Africa', 'Sri Lanka', 'New Zealand']])\n",
      "dict_items([('Sport', 'Cricket'), ('Teams', ['India', 'Australia', 'England', 'South Africa', 'Sri Lanka', 'New Zealand'])])\n"
     ]
    }
   ],
   "source": [
    "dict1 = {'Sport': 'Cricket', 'Teams': ['India', 'Australia', 'England', 'South Africa', 'Sri Lanka', 'New Zealand']}\n",
    "\n",
    "# Display the keys view object\n",
    "keys_view = dict1.keys()\n",
    "print(keys_view) \n",
    "\n",
    "# Display the values view object\n",
    "values_view = dict1.values()\n",
    "print(values_view)\n",
    "\n",
    "# Display the items view object\n",
    "items_view = dict1.items()\n",
    "print(items_view)\n"
   ]
  },
  {
   "cell_type": "markdown",
   "id": "cea65c8c-79b8-44c8-ab6f-9421e06b4490",
   "metadata": {},
   "source": [
    "* In the code above, the keys(), values(), and items() methods are called on the dict1 dictionary to obtain the respective view objects. These view objects are then printed, showing the contents of each view."
   ]
  },
  {
   "cell_type": "code",
   "execution_count": null,
   "id": "b6b387c1-f471-45cf-a8b5-12206178b044",
   "metadata": {},
   "outputs": [],
   "source": []
  },
  {
   "cell_type": "code",
   "execution_count": null,
   "id": "5c1d058f-2eea-449c-92cb-bc6a392a1cb4",
   "metadata": {},
   "outputs": [],
   "source": []
  }
 ],
 "metadata": {
  "kernelspec": {
   "display_name": "Python 3 (ipykernel)",
   "language": "python",
   "name": "python3"
  },
  "language_info": {
   "codemirror_mode": {
    "name": "ipython",
    "version": 3
   },
   "file_extension": ".py",
   "mimetype": "text/x-python",
   "name": "python",
   "nbconvert_exporter": "python",
   "pygments_lexer": "ipython3",
   "version": "3.10.8"
  }
 },
 "nbformat": 4,
 "nbformat_minor": 5
}
